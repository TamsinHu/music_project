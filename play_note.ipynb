{
 "metadata": {
  "language_info": {
   "codemirror_mode": {
    "name": "ipython",
    "version": 3
   },
   "file_extension": ".py",
   "mimetype": "text/x-python",
   "name": "python",
   "nbconvert_exporter": "python",
   "pygments_lexer": "ipython3",
   "version": "3.8.5-final"
  },
  "orig_nbformat": 2,
  "kernelspec": {
   "name": "python3",
   "display_name": "Python 3"
  }
 },
 "nbformat": 4,
 "nbformat_minor": 2,
 "cells": [
  {
   "source": [
    "import pyaudio\n",
    "import numpy as np\n"
   ],
   "cell_type": "code",
   "metadata": {},
   "execution_count": 64,
   "outputs": []
  },
  {
   "cell_type": "code",
   "execution_count": 65,
   "metadata": {},
   "outputs": [],
   "source": [
    "FS = 44100\n",
    "p = pyaudio.PyAudio()\n",
    "\n",
    "class Note:\n",
    "  def __init__(self, frequency, volume, duration):\n",
    "    self.frequency = frequency\n",
    "    self.volume = volume\n",
    "    self.duration = duration\n",
    "   # self.instrument = instrument\n",
    "\n",
    "  def play(self):\n",
    "      stream = p.open(format=pyaudio.paFloat32,\n",
    "                channels=1,\n",
    "                rate=FS,\n",
    "                output=True)\n",
    "      samples = (np.sin(2*np.pi*np.arange(FS*duration)*self.frequency/FS)).astype(np.float32)\n",
    "      stream.write(self.volume*samples)\n",
    "      stream.stop_stream()\n",
    "      stream.close()\n",
    "      p.terminate()\n",
    "    \n",
    "\n"
   ]
  },
  {
   "cell_type": "code",
   "execution_count": 66,
   "metadata": {},
   "outputs": [],
   "source": [
    "middle_c = Note(440.0, 0.5, 1.0 ) #\"sin\")\n",
    "\n",
    "middle_c.play()"
   ]
  }
 ]
}